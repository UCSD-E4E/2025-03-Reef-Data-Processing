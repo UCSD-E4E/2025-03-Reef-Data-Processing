{
 "cells": [
  {
   "cell_type": "code",
   "execution_count": 23,
   "metadata": {},
   "outputs": [],
   "source": [
    "from backend import get_project_export\n",
    "from config import settings\n",
    "import sqlite3\n",
    "from pathlib import Path\n",
    "import urllib.parse"
   ]
  },
  {
   "cell_type": "code",
   "execution_count": 3,
   "metadata": {},
   "outputs": [],
   "source": [
    "export = get_project_export(\n",
    "    project_id=settings.label_studio.laser_project_id,\n",
    "    label_studio_host=f'https://{settings.label_studio.host}',\n",
    "    label_studio_api_key=settings.label_studio.api_key\n",
    ")"
   ]
  },
  {
   "cell_type": "code",
   "execution_count": 5,
   "metadata": {},
   "outputs": [],
   "source": [
    "sql_db_path = f'//{settings.data.db_host}/{settings.data.db_path}'\n",
    "con = sqlite3.connect(sql_db_path)\n",
    "cur = con.cursor()"
   ]
  },
  {
   "cell_type": "code",
   "execution_count": 12,
   "metadata": {},
   "outputs": [],
   "source": [
    "labelled_tasks = [task for task in export if len(task['annotations']) > 0]"
   ]
  },
  {
   "cell_type": "code",
   "execution_count": 25,
   "metadata": {},
   "outputs": [],
   "source": [
    "labelled_images = [Path(urllib.parse.unquote(task['data']['img'].split('=')[-1])).relative_to('fs_png_labeling_project_laser/REEF/data') for task in labelled_tasks]"
   ]
  },
  {
   "cell_type": "code",
   "execution_count": null,
   "metadata": {},
   "outputs": [],
   "source": []
  }
 ],
 "metadata": {
  "kernelspec": {
   "display_name": ".venv",
   "language": "python",
   "name": "python3"
  },
  "language_info": {
   "codemirror_mode": {
    "name": "ipython",
    "version": 3
   },
   "file_extension": ".py",
   "mimetype": "text/x-python",
   "name": "python",
   "nbconvert_exporter": "python",
   "pygments_lexer": "ipython3",
   "version": "3.12.4"
  }
 },
 "nbformat": 4,
 "nbformat_minor": 2
}
