{
 "cells": [
  {
   "cell_type": "code",
   "execution_count": 4,
   "metadata": {},
   "outputs": [],
   "source": [
    "import contextlib\n",
    "import itertools\n",
    "import sqlite3\n",
    "from pathlib import Path\n",
    "\n",
    "import exiftool\n",
    "from tqdm.auto import tqdm"
   ]
  },
  {
   "cell_type": "code",
   "execution_count": 5,
   "metadata": {},
   "outputs": [],
   "source": [
    "data_root = Path(r\"\\\\e4e-nas.ucsd.edu\\fishsense_data\\REEF\\data\")\n",
    "data_db = Path(r\"\\\\e4e-nas.ucsd.edu\\fishsense_data\\REEF\\processing.db\")\n",
    "exiftool_path = Path(r\"C:\\Users\\nthui\\Downloads\\exiftool-13.22_64\\exiftool(-k).exe\")"
   ]
  },
  {
   "cell_type": "code",
   "execution_count": null,
   "metadata": {},
   "outputs": [
    {
     "name": "stderr",
     "output_type": "stream",
     "text": [
      "Image Camera SN: 100%|██████████| 55/55 [00:00<00:00, 155.29it/s]"
     ]
    },
    {
     "name": "stdout",
     "output_type": "stream",
     "text": [
      "execute returned a non-zero exit status: 1\n"
     ]
    },
    {
     "name": "stderr",
     "output_type": "stream",
     "text": [
      "\n"
     ]
    }
   ],
   "source": [
    "with contextlib.closing(sqlite3.connect(data_db)) as con, contextlib.closing(con.cursor()) as cur:\n",
    "    images = [data_root.joinpath(row[0]) for row in cur.execute('SELECT path FROM images WHERE images.camera_sn ISNULL;').fetchall()]\n",
    "\n",
    "    with exiftool.ExifToolHelper(executable=exiftool_path.as_posix()) as et:\n",
    "        for image_batch in itertools.batched(tqdm(images, 'Image Camera SN'), n=1):\n",
    "            try:\n",
    "                metadata = et.get_tags(image_batch, ['MakerNotes:SerialNumber'])\n",
    "            except Exception as exc:\n",
    "                print(exc)\n",
    "                continue\n",
    "\n",
    "            for data in metadata:\n",
    "                try:\n",
    "                    params = {\n",
    "                                    'camera_sn': data['MakerNotes:SerialNumber'].strip(),\n",
    "                                    'path': Path(data['SourceFile']).relative_to(data_root).as_posix()\n",
    "                                }\n",
    "                except KeyError:\n",
    "                    continue\n",
    "                cur.execute('UPDATE images SET camera_sn = :camera_sn WHERE images.path = :path',\n",
    "                            params)\n",
    "                con.commit()"
   ]
  },
  {
   "cell_type": "code",
   "execution_count": null,
   "metadata": {},
   "outputs": [],
   "source": []
  }
 ],
 "metadata": {
  "kernelspec": {
   "display_name": ".venv",
   "language": "python",
   "name": "python3"
  },
  "language_info": {
   "codemirror_mode": {
    "name": "ipython",
    "version": 3
   },
   "file_extension": ".py",
   "mimetype": "text/x-python",
   "name": "python",
   "nbconvert_exporter": "python",
   "pygments_lexer": "ipython3",
   "version": "3.12.4"
  }
 },
 "nbformat": 4,
 "nbformat_minor": 2
}
